{
 "cells": [
  {
   "cell_type": "code",
   "execution_count": null,
   "metadata": {},
   "outputs": [],
   "source": [
    "def check_data_quality(df):\n",
    "    \"\"\"\n",
    "    Check data quality issues such as missing values, duplicates, and outliers.\n",
    "    \n",
    "    Parameters:\n",
    "    df (DataFrame): The dataset to check.\n",
    "    \n",
    "    Returns:\n",
    "    dict: A dictionary containing data quality metrics.\n",
    "    \"\"\"\n",
    "    quality_report = {}\n",
    "    \n",
    "    # Check missing values\n",
    "    missing_values = df.isnull().sum()\n",
    "    missing_percentage = (missing_values / len(df)) * 100\n",
    "    quality_report['missing_values'] = {\n",
    "        'count': missing_values,\n",
    "        'percentage': missing_percentage\n",
    "    }\n",
    "    \n",
    "    # TODO: Check duplicates\n",
    "    # 1. Count the number of duplicate rows\n",
    "    # 2. Calculate the percentage of duplicate rows\n",
    "    # 3. Add this information to the quality_report dictionary\n",
    "\n",
    "    duplicate_count = df.duplicated().sum()\n",
    "    duplicate_percentage = (duplicate_count/ len(df)) *100\n",
    "    quality_report['duplicates'] = {\n",
    "        'count': duplicate_count,\n",
    "        'percentage': duplicate_percentage\n",
    "    }\n",
    "    # TODO: Check for potential outliers in numeric columns\n",
    "    # 1. For each numeric column, calculate Q1, Q3, and IQR\n",
    "    # 2. Define lower and upper bounds (Q1 - 1.5*IQR and Q3 + 1.5*IQR)\n",
    "    # 3. Count values outside these bounds\n",
    "    # 4. Add this information to the quality_report dictionary\n",
    "\n",
    "    outliers = {}\n",
    "    for col in df.select_dtypes(include=['int64', 'float64']).columns:\n",
    "        q1 = df[col].quantile(0.25)\n",
    "        q3 = df[col].quantile(0.75)\n",
    "        iqr = q3 - q1\n",
    "        lower_bound = q1 - 1.5 * iqr\n",
    "        upper_bound = q3 + 1.5 * iqr\n",
    "        outliers_count = df[(df[col] < lower_bound) | (df[col] > upper_bound)].shape[0]\n",
    "        outliers[col] = {\n",
    "            'count': outliers_count,\n",
    "            'percentage': (outliers_count / len(df)) * 100,\n",
    "            'lower_bound': lower_bound,\n",
    "            'upper_bound': upper_bound\n",
    "        }\n",
    "    quality_report['potential_outliers'] = outliers\n",
    "\n",
    "    return quality_report"
   ]
  }
 ],
 "metadata": {
  "kernelspec": {
   "display_name": "Python 3",
   "language": "python",
   "name": "python3"
  },
  "language_info": {
   "name": "python",
   "version": "3.12.1"
  }
 },
 "nbformat": 4,
 "nbformat_minor": 2
}
