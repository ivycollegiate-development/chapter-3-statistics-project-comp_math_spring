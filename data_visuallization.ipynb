{
 "cells": [
  {
   "cell_type": "code",
   "execution_count": 1,
   "metadata": {},
   "outputs": [],
   "source": [
    "import pandas as pd\n",
    "import numpy as np\n",
    "import matplotlib.pyplot as plt\n",
    "import seaborn as sns\n",
    "df = pd.read_csv(\"student_performance_data.csv\")\n",
    "def load_dataset(file_path):\n",
    "    \"\"\"\n",
    "    Load a dataset and display basic information about it.\n",
    "    \n",
    "    Parameters:\n",
    "    file_path (str): Path to the dataset file.\n",
    "    \n",
    "    Returns:\n",
    "    DataFrame: The loaded dataset.\n",
    "    \"\"\"\n",
    "    try:\n",
    "        # Try to infer the file type from extension\n",
    "        if file_path.endswith('.csv'):\n",
    "            df = pd.read_csv(file_path)\n",
    "        elif file_path.endswith(('.xls', '.xlsx')):\n",
    "            df = pd.read_excel(file_path)\n",
    "        else:\n",
    "            print(f\"Unsupported file type: {file_path}\")\n",
    "            return None\n",
    "        \n",
    "        print(\"\\nDataset Shape:\", df.shape)\n",
    "        print(\"\\nFirst 5 Rows:\")\n",
    "        print(df.head())\n",
    "        print(\"\\nData Types:\")\n",
    "        print(df.dtypes)\n",
    "        print(\"\\nSummary Statistics:\")\n",
    "        print(df.describe())\n",
    "        print(\"\\nMissing Values per Column:\")\n",
    "        print(df.isnull().sum())\n",
    "        return df\n",
    "    \n",
    "    except Exception as e:\n",
    "        print(f\"Error loading dataset: {e}\")\n",
    "        return None\n",
    "    "
   ]
  }
 ],
 "metadata": {
  "kernelspec": {
   "display_name": "Python 3",
   "language": "python",
   "name": "python3"
  },
  "language_info": {
   "codemirror_mode": {
    "name": "ipython",
    "version": 3
   },
   "file_extension": ".py",
   "mimetype": "text/x-python",
   "name": "python",
   "nbconvert_exporter": "python",
   "pygments_lexer": "ipython3",
   "version": "3.12.1"
  }
 },
 "nbformat": 4,
 "nbformat_minor": 2
}
